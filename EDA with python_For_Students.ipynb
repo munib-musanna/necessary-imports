{
 "cells": [
  {
   "cell_type": "code",
   "execution_count": null,
   "id": "a81ab34c-f8b2-443f-910c-d248b36497c6",
   "metadata": {},
   "outputs": [],
   "source": [
    "import pandas as pd\n",
    "import numpy as np\n",
    "import seaborn as sns\n",
    "import matplotlib.pyplot as plt"
   ]
  },
  {
   "cell_type": "code",
   "execution_count": null,
   "id": "cddaca30-5363-498e-ba5f-eda20d54fc89",
   "metadata": {},
   "outputs": [],
   "source": [
    "data = pd.read_csv(\"US_Accidents_March23.csv\")\n",
    "pd.set_option(\"display.max_columns\", None)\n",
    "data.head(5)"
   ]
  },
  {
   "cell_type": "code",
   "execution_count": null,
   "id": "c50446aa-965b-4127-be12-bfb4dfca31a4",
   "metadata": {},
   "outputs": [],
   "source": [
    "data.drop(['End_Lat','End_Lng'],axis=1,inplace=True)\n",
    "data"
   ]
  },
  {
   "cell_type": "code",
   "execution_count": null,
   "id": "96bc75e1-cfdd-487f-a565-2aab7ab151fd",
   "metadata": {},
   "outputs": [],
   "source": [
    "data.columns"
   ]
  },
  {
   "cell_type": "code",
   "execution_count": null,
   "id": "54e32080-7cb2-477c-85cb-e1b3eb559428",
   "metadata": {},
   "outputs": [],
   "source": [
    "data.shape # we have 7.7M records in our dataset"
   ]
  },
  {
   "cell_type": "code",
   "execution_count": null,
   "id": "b4256ed7-7ae2-4bc8-92e8-fc819205a1e1",
   "metadata": {},
   "outputs": [],
   "source": [
    "# Checking for null values\n",
    "data.isnull().sum().sort_values(ascending=False)"
   ]
  },
  {
   "cell_type": "code",
   "execution_count": null,
   "id": "1429360f-7f83-48fa-aa03-211a59e16a92",
   "metadata": {},
   "outputs": [],
   "source": [
    "# Filling null values...\n",
    "data[\"Visibility(mi)\"].fillna(data[\"Visibility(mi)\"].mean(),inplace=True)\n",
    "data[\"Temperature(F)\"].fillna(data[\"Temperature(F)\"].mean(),inplace=True)\n",
    "data[\"Pressure(in)\"].fillna(data[\"Pressure(in)\"].mean(),inplace=True)"
   ]
  },
  {
   "cell_type": "code",
   "execution_count": null,
   "id": "39bc2441-4776-458d-9250-b2b9fba24c51",
   "metadata": {},
   "outputs": [],
   "source": [
    "# Checking for null values again\n",
    "data.isnull().sum().sort_values(ascending=False)"
   ]
  },
  {
   "cell_type": "code",
   "execution_count": null,
   "id": "f9b2dbc8-c6c5-4fdd-bb4b-929416456dbd",
   "metadata": {},
   "outputs": [],
   "source": [
    "data.info() # checking for the data types"
   ]
  },
  {
   "cell_type": "code",
   "execution_count": null,
   "id": "438bdaff-e93a-4233-8924-36984984707d",
   "metadata": {},
   "outputs": [],
   "source": [
    "data.duplicated().sum() # check if any duplicate value is present"
   ]
  },
  {
   "cell_type": "code",
   "execution_count": null,
   "id": "6109826f-e55d-4a8b-a999-389cd6c370f7",
   "metadata": {},
   "outputs": [],
   "source": [
    "# changing datatype of the column End_Time to extract day,month,year and other details\n",
    "data['End_Time']=data['End_Time'].str.replace(r'\\.\\d+','',regex=True)\n",
    "data['End_Time']=pd.to_datetime(data['End_Time'],format=\"%Y-%m-%d %H:%M:%S\")\n",
    "data[\"Year\"]=data[\"End_Time\"].dt.year\n",
    "data['Month']=data['End_Time'].dt.month\n",
    "data['Day']=data['End_Time'].dt.day\n",
    "data['Hour']=data['End_Time'].dt.hour\n",
    "data['Minute']=data['End_Time'].dt.minute\n",
    "data['Second']=data['End_Time'].dt.second\n",
    "data[\"Date\"]=data[\"End_Time\"].dt.date\n",
    "data[\"Time\"]=data[\"End_Time\"].dt.time"
   ]
  },
  {
   "cell_type": "code",
   "execution_count": null,
   "id": "7dc81a40-c437-48c1-9755-c5226b3d779e",
   "metadata": {},
   "outputs": [],
   "source": [
    "# Combining Weather_Condition and Visibility columns...\n",
    "\n",
    "data[\"w_v_combined\"] = data[\"Visibility(mi)\"].astype(str) + \" \" + data[\"Weather_Condition\"]\n",
    "data[\"w_v_combined\"]"
   ]
  },
  {
   "cell_type": "code",
   "execution_count": null,
   "id": "c4ff69ee-d766-4956-ba07-9810739dcd0c",
   "metadata": {},
   "outputs": [],
   "source": [
    "data.info() # checking for the data types again"
   ]
  },
  {
   "cell_type": "markdown",
   "id": "91de933a-a855-4482-8bdc-9d9c221492a0",
   "metadata": {},
   "source": [
    "# UNIVARIATE ANALYSIS"
   ]
  },
  {
   "cell_type": "code",
   "execution_count": null,
   "id": "90e6ae6b-12b5-46a4-ad4b-a8f26feabd14",
   "metadata": {},
   "outputs": [],
   "source": [
    "# Summary statistics of the data\n",
    "data.describe()"
   ]
  },
  {
   "cell_type": "code",
   "execution_count": null,
   "id": "bef5749b-cea8-41b8-abda-66fa5dcacb3c",
   "metadata": {},
   "outputs": [],
   "source": [
    "# Row accident data  from different sources\n",
    "row_data_sources=data.Source.value_counts()\n",
    "sns.barplot(x=row_data_sources.index,y=row_data_sources,palette=\"viridis\")\n",
    "sns.despine(right=True)\n",
    "for i,v in enumerate(row_data_sources):\n",
    "    plt.text(i,v+1,str(v),ha=\"center\",va=\"bottom\")\n",
    "\n"
   ]
  },
  {
   "cell_type": "code",
   "execution_count": null,
   "id": "2d9348db-2979-44e8-bba2-6fa46d243643",
   "metadata": {},
   "outputs": [],
   "source": [
    "# State wise distribution of accidents\n",
    "plt.figure(figsize=(16,10))\n",
    "sns.countplot(data=data,x=data.State,order=['CA','FL','TX','SC','NY','NC','VA','PA','MN','OR','AZ','GA'])\n",
    "plt.xticks(rotation=90,size=14)\n",
    "plt.yticks(size=14)\n",
    "plt.ylabel(None)\n",
    "plt.title(\"State wise distribution of accidents\",fontsize=14)\n",
    "plt.show()"
   ]
  },
  {
   "cell_type": "code",
   "execution_count": null,
   "id": "fca1d654-ea01-4d3b-877b-4c192b719d51",
   "metadata": {},
   "outputs": [],
   "source": [
    "# Top 20 hotspots cities of accidents in california(CA)\n",
    "CA_data=data[data[\"State\"]==\"CA\"]\n",
    "CA_City=CA_data.groupby(\"City\")[\"City\"].count().sort_values(ascending=False).head(20)\n",
    "sns.barplot(x=CA_City.index,y=CA_City)\n",
    "sns.despine(right=True)\n",
    "for i,v in enumerate(CA_City):\n",
    "    plt.text(i,v+1,str(v),rotation=30)\n",
    "plt.xticks(rotation=90)\n",
    "plt.ylabel(None)\n",
    "plt.show()"
   ]
  },
  {
   "cell_type": "code",
   "execution_count": null,
   "id": "0263bef8-e513-429d-bb33-dec9af0ab509",
   "metadata": {},
   "outputs": [],
   "source": [
    "# Top cities with highest number of accidents\n",
    "city_data=data.groupby(\"City\")[\"City\"].count().sort_values(ascending=False).head(20)"
   ]
  },
  {
   "cell_type": "code",
   "execution_count": null,
   "id": "4b62e11c-fe20-4d68-9f03-f2073b8f4d13",
   "metadata": {},
   "outputs": [],
   "source": [
    "sns.barplot(x=city_data.index,y=city_data)\n",
    "sns.despine(right=True)\n",
    "for i,v in enumerate(city_data):\n",
    "    plt.text(i,v+1,str(v),rotation=30)\n",
    "plt.xticks(rotation=90)\n",
    "plt.ylabel(None)\n",
    "plt.show()"
   ]
  },
  {
   "cell_type": "code",
   "execution_count": null,
   "id": "0b0ae701-47bc-4e33-9473-82f12e719698",
   "metadata": {},
   "outputs": [],
   "source": [
    "# Top 50 cities with Highest accident rates\n",
    "plt.figure(figsize=(12,6))\n",
    "city_wise_groupd=data.groupby(\"City\")[\"City\"].count().sort_values(ascending=False).head(50)\n",
    "city_wise_groupd.plot(kind=\"bar\")\n",
    "for i,v in enumerate(city_wise_groupd):\n",
    "    plt.text(i,v+1,str(v),ha=\"center\",va=\"bottom\",rotation=90,size=11)\n",
    "plt.ylabel(\"Number of accidents\")\n",
    "plt.xlabel(\"City\")\n",
    "plt.title(\"Top 50 City with Highest accident rates\")\n",
    "plt.xticks(rotation=90)\n",
    "plt.show()"
   ]
  },
  {
   "cell_type": "code",
   "execution_count": null,
   "id": "74dd62b0-ec05-4dd2-9726-06a009b14260",
   "metadata": {},
   "outputs": [],
   "source": [
    "# Year wise number of accidents...\n",
    "year_data=data.groupby(\"Year\")[\"ID\"].count()\n",
    "sns.barplot(x=year_data.index,y=year_data,palette=\"rocket\")\n",
    "sns.despine(right=True)\n",
    "for i,v in enumerate(year_data):\n",
    "    plt.text(i,v+1,str(v),ha=\"center\",va=\"bottom\",size=9)\n",
    "plt.ylabel(None)\n",
    "plt.title(\"Year wise number of accidents\",size=14)\n",
    "plt.show()"
   ]
  },
  {
   "cell_type": "code",
   "execution_count": null,
   "id": "25c163ff-bbab-4d60-bb92-7080c488747e",
   "metadata": {},
   "outputs": [],
   "source": [
    "# Time zone wise accidents\n",
    "nm=data.groupby(\"Timezone\")[\"Timezone\"].count().sort_values(ascending=False)\n",
    "sns.barplot(x=nm.index,y=nm)\n",
    "sns.despine(right=True)\n",
    "plt.ylabel(None)\n",
    "plt.title(\"Time zone wise accidents\")\n",
    "plt.ylim([0,4000000])\n",
    "for i,v in enumerate(nm):\n",
    "    plt.text(i,v+1,str(v),ha=\"center\",va=\"bottom\")\n",
    "plt.show()"
   ]
  },
  {
   "cell_type": "code",
   "execution_count": null,
   "id": "3d4aec1f-691c-4828-8f96-6359f327f9df",
   "metadata": {},
   "outputs": [],
   "source": [
    "# Wind direction wise distribution of the accidents\n",
    "plt.figure(figsize=(10,6))\n",
    "wind_dir=data.Wind_Direction.value_counts().sort_values(ascending=False)\n",
    "sns.barplot(y=wind_dir.index,x=wind_dir,palette=\"rocket\")\n",
    "sns.despine(right=True)\n",
    "plt.ylabel(None)\n",
    "plt.title(\"Wind direction during accidents\")\n",
    "plt.show()"
   ]
  },
  {
   "cell_type": "code",
   "execution_count": null,
   "id": "245ff543-e81c-4152-8d57-a7513b0ff829",
   "metadata": {},
   "outputs": [],
   "source": [
    "# crossing data distribution\n",
    "crossing=data.groupby(\"Crossing\")[\"Crossing\"].count()\n",
    "print(crossing)\n",
    "plt.pie(crossing,labels=crossing.index,autopct=\"%1.1f%%\",shadow=True,textprops={\"color\":\"black\",\"size\":20})\n",
    "plt.title(\"crossing during accident\")\n",
    "plt.legend()\n",
    "plt.show()"
   ]
  },
  {
   "cell_type": "code",
   "execution_count": null,
   "id": "6508218d-71f7-42f9-a485-ffbffa2ab01c",
   "metadata": {},
   "outputs": [],
   "source": [
    "# juntion data distribution\n",
    "junction=data.groupby(\"Junction\")[\"Junction\"].count()\n",
    "print(junction)\n",
    "plt.pie(junction,labels=junction.index,autopct=\"%1.1f%%\",shadow=True,textprops={\"color\":\"black\",\"size\":20})\n",
    "plt.title(\"junction during accident\")\n",
    "plt.legend()\n",
    "plt.show()"
   ]
  },
  {
   "cell_type": "code",
   "execution_count": null,
   "id": "3345988d-dd60-4057-8d37-6913a05efc9e",
   "metadata": {},
   "outputs": [],
   "source": [
    "# station data distribution\n",
    "station=data.groupby(\"Station\")[\"Station\"].count()\n",
    "print(station)\n",
    "plt.pie(station,labels=station.index,autopct=\"%1.1f%%\",shadow=True,textprops={\"color\":\"black\",\"size\":12})\n",
    "plt.title(\"station during accident\")\n",
    "plt.legend()\n",
    "plt.show()"
   ]
  },
  {
   "cell_type": "code",
   "execution_count": null,
   "id": "ea3689fe-939e-4086-8352-2807e18111e7",
   "metadata": {},
   "outputs": [],
   "source": [
    "# Accidents day vs night\n",
    "day_night=data.Sunrise_Sunset.value_counts()\n",
    "print(day_night)\n",
    "plt.pie(day_night,labels=day_night.index,autopct=\"%1.1f%%\",shadow=True,textprops={\"color\":\"black\",\"size\":20})\n",
    "plt.show()"
   ]
  },
  {
   "cell_type": "code",
   "execution_count": null,
   "id": "3a951509-7163-4e1e-92d9-968a4736937c",
   "metadata": {},
   "outputs": [],
   "source": [
    "# Percentage of severity levels according to accidents\n",
    "severity_per=data.groupby(\"Severity\")[\"Severity\"].count()\n",
    "print(severity_per)\n",
    "plt.pie(severity_per,labels=severity_per.index,autopct=\"%1.1f%%\",shadow=True,textprops={\"size\":12,\"rotation\":45})\n",
    "plt.title(\"Severity level percentage according to accidents\")\n",
    "plt.show()"
   ]
  },
  {
   "cell_type": "code",
   "execution_count": null,
   "id": "03ab099d-e281-48f6-a4c1-697ca0714954",
   "metadata": {},
   "outputs": [],
   "source": [
    "# Top weather condition when most of the accidents occure\n",
    "plt.figure(figsize=(18,8))\n",
    "weather_cond=data.groupby(\"Weather_Condition\")[\"Weather_Condition\"].count().sort_values(ascending=False).head(20)\n",
    "sns.barplot(x=weather_cond.index,y=weather_cond)\n",
    "sns.despine(right=True)\n",
    "for i,v in enumerate(weather_cond):\n",
    "    plt.text(i,v+1,str(v),ha=\"center\",va=\"bottom\",size=14,rotation=15)\n",
    "plt.xticks(rotation=45,size=14)\n",
    "plt.ylabel(None)\n",
    "plt.title(\"Top weather condition when most of the accidents occure\",fontsize=14)\n",
    "plt.show()"
   ]
  },
  {
   "cell_type": "code",
   "execution_count": null,
   "id": "c05c3956-07db-4542-acc4-8afcebf5fe99",
   "metadata": {},
   "outputs": [],
   "source": [
    "# Railway data distribution\n",
    "railway=data.groupby(\"Railway\")[\"Railway\"].count()\n",
    "print(railway)\n",
    "plt.pie(railway,labels=railway.index,autopct=\"%1.1f%%\",shadow=True,textprops={\"size\":13})\n",
    "plt.show()"
   ]
  },
  {
   "cell_type": "code",
   "execution_count": null,
   "id": "cc86cfdb-cdf5-4520-8803-148ef5920b38",
   "metadata": {},
   "outputs": [],
   "source": [
    "# average accidents on daily basis\n",
    "date_wise=data.groupby(\"Date\")[\"ID\"].count()\n",
    "date_wise.mean()"
   ]
  },
  {
   "cell_type": "code",
   "execution_count": null,
   "id": "cb91da00-04aa-4174-a06e-0adea37d20c9",
   "metadata": {},
   "outputs": [],
   "source": [
    "# average accidents per year\n",
    "year_data=data.groupby(\"Year\")[\"ID\"].count()\n",
    "avg_acc=year_data.mean()\n",
    "print(year_data)\n",
    "print(\"average accidents per year: \",f'\\033[1m{avg_acc}')"
   ]
  },
  {
   "cell_type": "markdown",
   "id": "3dc8c9d0-c897-45a4-81fc-1a3319544bee",
   "metadata": {},
   "source": [
    "# BIVARIATE ANALYSIS"
   ]
  },
  {
   "cell_type": "code",
   "execution_count": null,
   "id": "e5151365-e39a-4ce0-be79-9cbef159dab6",
   "metadata": {
    "scrolled": true
   },
   "outputs": [],
   "source": [
    "# Severity and Weather Conditions\n",
    "# Double-Click to zome the chart\n",
    "plt.figure(figsize=(50,20))\n",
    "sns.countplot(data=data,x=\"Weather_Condition\",hue=\"Severity\",palette=\"husl\")\n",
    "plt.xticks(rotation=90,size=20)\n",
    "plt.xlabel(\"Weather_Conditions\",size=20)\n",
    "plt.ylabel(None)\n",
    "plt.title(\"Severity and Weather Conditions\",size=20)\n",
    "plt.show()"
   ]
  },
  {
   "cell_type": "code",
   "execution_count": null,
   "id": "28b599c3-01ab-4aef-9b33-3148d7637ce0",
   "metadata": {},
   "outputs": [],
   "source": [
    "# Severity and States\n",
    "plt.figure(figsize=(15,6))\n",
    "sns.countplot(data=data,x=\"State\",hue=\"Severity\")\n",
    "plt.xticks(rotation=90,size=10)\n",
    "plt.yticks(size=12)\n",
    "plt.ylabel(None)\n",
    "plt.xlabel(\"States\",size=14)\n",
    "plt.title(\"Severity and States\",size=15)\n",
    "plt.show()"
   ]
  },
  {
   "cell_type": "code",
   "execution_count": null,
   "id": "a5f06d74-9b2b-4193-b6ee-d0e79bd222af",
   "metadata": {},
   "outputs": [],
   "source": [
    "# Temperature and Pressure...\n",
    "columns=data[[\"Temperature(F)\",\"Pressure(in)\"]]\n",
    "plot_data=columns[columns.notnull().all(axis=1)]\n",
    "sns.jointplot(data=plot_data,x=\"Temperature(F)\",y=\"Pressure(in)\")\n",
    "plt.show()"
   ]
  },
  {
   "cell_type": "code",
   "execution_count": null,
   "id": "eb7d1603-2db1-4b44-9c1a-f3bfdfa7f9b2",
   "metadata": {},
   "outputs": [],
   "source": [
    "#Temperature distribution during different weather conditions\n",
    "sns.scatterplot(data,x=\"Weather_Condition\",y=\"Temperature(F)\")\n",
    "fig = plt.gcf()\n",
    "fig.set_size_inches(30,10)\n",
    "plt.xticks(rotation=90,size=14)\n",
    "plt.title(\"Temperature distribution during different weather conditions\",size=20)\n",
    "plt.show()"
   ]
  },
  {
   "cell_type": "code",
   "execution_count": null,
   "id": "71e9f560-e5b5-45d2-ae28-a708d07d3bac",
   "metadata": {},
   "outputs": [],
   "source": [
    "# State and Temperature\n",
    "sns.scatterplot(data,x=\"State\",y=\"Temperature(F)\")\n",
    "fig = plt.gcf()\n",
    "fig.set_size_inches(30,10)\n",
    "plt.xticks(rotation=90,size=14)\n",
    "plt.title(\"State and Temperature\",size=15)\n",
    "plt.show()"
   ]
  },
  {
   "cell_type": "code",
   "execution_count": null,
   "id": "cabe83c4-e43c-4903-b88e-10a123b10348",
   "metadata": {},
   "outputs": [],
   "source": [
    "# Average visibility in different Weather conditions\n",
    "# Double-Click to zoom the chart\n",
    "plt.figure(figsize=(25,10))\n",
    "avg_visibility=data.groupby('Weather_Condition')['Visibility(mi)'].mean()\n",
    "sns.barplot(x=avg_visibility.index,y=avg_visibility)\n",
    "sns.despine(right=True)\n",
    "plt.title(\"Average visibility in different Weather conditions\",size=20)\n",
    "plt.ylabel(\"Visibility(mi)\",size=20)\n",
    "plt.xlabel(\"Weather Conditions\",size=20)\n",
    "plt.xticks(rotation=90)\n",
    "plt.show()"
   ]
  },
  {
   "cell_type": "code",
   "execution_count": null,
   "id": "c09fb036-f4e6-464b-8754-a8becfdd579e",
   "metadata": {},
   "outputs": [],
   "source": [
    "# Wind spead and Temperature\n",
    "sns.relplot(data,x=\"Temperature(F)\",y=\"Wind_Speed(mph)\")\n",
    "plt.title(\"Wind spead and Temperature\",size=14)\n",
    "fig=plt.gcf()\n",
    "fig.set_size_inches(20,7)\n",
    "plt.show()"
   ]
  },
  {
   "cell_type": "markdown",
   "id": "edbb727a-1fce-4ff4-bf10-7bc7210d631d",
   "metadata": {},
   "source": [
    "# MULTIVARIAT ANALYSIS"
   ]
  },
  {
   "cell_type": "code",
   "execution_count": null,
   "id": "799b9338-c926-441e-9346-6428531e2497",
   "metadata": {
    "scrolled": true
   },
   "outputs": [],
   "source": [
    "num_cols=data.select_dtypes(include=\"number\").columns.tolist()\n",
    "num_data=data[['Severity',\n",
    "'Start_Lat',\n",
    "'Start_Lng',\n",
    "'Distance(mi)',\n",
    "'Temperature(F)',\n",
    "'Wind_Chill(F)',\n",
    "'Humidity(%)',\n",
    "'Pressure(in)',\n",
    "'Visibility(mi)',\n",
    "'Wind_Speed(mph)',\n",
    "'Precipitation(in)',\n",
    "'Year',\n",
    "'Month',\n",
    "'Day',\n",
    "'Hour',\n",
    "'Minute',\n",
    "'Second']]\n",
    "plt.figure(figsize=(8,6)) # Adjust the figure size if needed\n",
    "correlation_matrix=num_data.corr()\n",
    "sns.heatmap(correlation_matrix, annot=True, cmap='coolwarm', fmt=\".2f\")\n",
    "plt.title(\"Correlation matrix for numeric columns\")\n",
    "plt.show()"
   ]
  },
  {
   "cell_type": "code",
   "execution_count": null,
   "id": "0fa097b3-df5b-45a7-9718-501f7be7f0ff",
   "metadata": {},
   "outputs": [],
   "source": []
  }
 ],
 "metadata": {
  "kernelspec": {
   "display_name": "Python 3 (ipykernel)",
   "language": "python",
   "name": "python3"
  },
  "language_info": {
   "codemirror_mode": {
    "name": "ipython",
    "version": 3
   },
   "file_extension": ".py",
   "mimetype": "text/x-python",
   "name": "python",
   "nbconvert_exporter": "python",
   "pygments_lexer": "ipython3",
   "version": "3.12.4"
  }
 },
 "nbformat": 4,
 "nbformat_minor": 5
}
