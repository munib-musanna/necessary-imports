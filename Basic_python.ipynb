{
 "cells": [
  {
   "cell_type": "code",
   "execution_count": 1,
   "metadata": {},
   "outputs": [
    {
     "name": "stdout",
     "output_type": "stream",
     "text": [
      "Hello world\n"
     ]
    }
   ],
   "source": [
    "print('Hello world') # run = shift + enter"
   ]
  },
  {
   "cell_type": "markdown",
   "metadata": {},
   "source": [
    "Python Basic"
   ]
  },
  {
   "cell_type": "markdown",
   "metadata": {},
   "source": [
    "Arithmetic Operations"
   ]
  },
  {
   "cell_type": "code",
   "execution_count": 2,
   "metadata": {},
   "outputs": [
    {
     "name": "stdout",
     "output_type": "stream",
     "text": [
      "8\n",
      "2\n",
      "15\n",
      "1.6666666666666667\n",
      "1\n",
      "2\n",
      "125\n"
     ]
    }
   ],
   "source": [
    "a = 5\n",
    "b = 3\n",
    "print(a + b) # Addition\n",
    "print(a - b) # Subtraction\n",
    "print(a * b) # Multiplication\n",
    "print(a / b) # Division\n",
    "print(a // b) #(floor division)\n",
    "print(a % b)  # (remainder)\n",
    "print(a ** b) # (exponentiation)"
   ]
  },
  {
   "cell_type": "markdown",
   "metadata": {},
   "source": [
    "Comparison Operations"
   ]
  },
  {
   "cell_type": "code",
   "execution_count": 3,
   "metadata": {},
   "outputs": [
    {
     "name": "stdout",
     "output_type": "stream",
     "text": [
      "False\n",
      "True\n",
      "True\n",
      "False\n",
      "False\n",
      "True\n"
     ]
    }
   ],
   "source": [
    "a = 5\n",
    "b = 3\n",
    "print(a == b)  # Equal to\n",
    "print(a != b)  # Not equal to\n",
    "print(a > b)   # Greater than\n",
    "print(a < b)   # FLess than\n",
    "print(a<=b)    # less than or equal to\n",
    "print(a>=b)    # Greater than or equal to"
   ]
  },
  {
   "cell_type": "markdown",
   "metadata": {},
   "source": [
    " Logical Operations"
   ]
  },
  {
   "cell_type": "code",
   "execution_count": 4,
   "metadata": {},
   "outputs": [
    {
     "name": "stdout",
     "output_type": "stream",
     "text": [
      "False\n",
      "False\n",
      "False\n",
      "False\n",
      "False\n",
      "True\n"
     ]
    }
   ],
   "source": [
    "x = 5\n",
    "y = 10\n",
    "\n",
    "# Logical AND or &\n",
    "# Both conditions are True, so Output: True\n",
    "print(x > 0 & y > 0) \n",
    "# One condition is False, so Output: False\n",
    "print(x > 0 and y < 0) \n",
    "\n",
    "# Logical OR or |\n",
    "# One condition is True, so Output: True\n",
    "print(x > 0 | y < 0)   \n",
    "# Both conditions are False, so Output: False\n",
    "print(x < 0 or y < 0)   \n",
    "\n",
    "# Logical NOT\n",
    "# x > 0 is True, so not True is False, Output: False\n",
    "print(not (x > 0)) \n",
    "# x < 0 is False, so not False is True, Output: True\n",
    "print(not (x < 0))      \n"
   ]
  },
  {
   "cell_type": "markdown",
   "metadata": {},
   "source": [
    "Membership Operations"
   ]
  },
  {
   "cell_type": "code",
   "execution_count": 5,
   "metadata": {},
   "outputs": [
    {
     "name": "stdout",
     "output_type": "stream",
     "text": [
      "True\n",
      "True\n"
     ]
    }
   ],
   "source": [
    "fruits = ['apple', 'banana', 'cherry']\n",
    "print('apple' in fruits)  \n",
    "print('grape' not in fruits)  \n"
   ]
  },
  {
   "cell_type": "markdown",
   "metadata": {},
   "source": [
    "Bitwise Operators"
   ]
  },
  {
   "cell_type": "code",
   "execution_count": 6,
   "metadata": {},
   "outputs": [
    {
     "name": "stdout",
     "output_type": "stream",
     "text": [
      "2\n",
      "7\n",
      "5\n"
     ]
    }
   ],
   "source": [
    "# Declare variables a and b\n",
    "a = 6  # 6 in binary is 110\n",
    "b = 3  # 3 in binary is 011\n",
    "\n",
    "# Perform Bitwise AND operation\n",
    "# AND: Compares each bit, results in 1 where both bits are 1, otherwise 0\n",
    "# 110 (a = 6) \n",
    "# & 011 (b = 3)\n",
    "# -------\n",
    "#   010 (result = 2)\n",
    "print(a & b)    # Output will be 2\n",
    "\n",
    "\n",
    "# Perform Bitwise OR operation\n",
    "# OR: Compares each bit, results in 1 if at least one of the bits is 1\n",
    "# 110 (a = 6)\n",
    "# | 011 (b = 3)\n",
    "# -------\n",
    "#   111 (result = 7)\n",
    "print(a | b)    # Output will be 7\n",
    "\n",
    "\n",
    "# Perform Bitwise XOR operation\n",
    "# XOR: Compares each bit, results in 1 where the bits are different\n",
    "# 110 (a = 6)\n",
    "# ^ 011 (b = 3)\n",
    "# -------\n",
    "#   101 (result = 5)\n",
    "print(a ^ b)    # Output will be 5\n"
   ]
  },
  {
   "cell_type": "markdown",
   "metadata": {},
   "source": [
    "List"
   ]
  },
  {
   "cell_type": "code",
   "execution_count": 7,
   "metadata": {},
   "outputs": [
    {
     "name": "stdout",
     "output_type": "stream",
     "text": [
      "24\n"
     ]
    }
   ],
   "source": [
    "#List\n",
    "marks = [4,5,7,5,3,8,5,24,57,23,33]\n",
    "#list indexing\n",
    "print(marks[7])#index:0,1,2,3,4,5,6,"
   ]
  },
  {
   "cell_type": "code",
   "execution_count": 8,
   "metadata": {},
   "outputs": [
    {
     "name": "stdout",
     "output_type": "stream",
     "text": [
      "[4, 5, 7, 5, 3]\n"
     ]
    }
   ],
   "source": [
    "marks = [4,5,7,5,3,8,5,24,57,23,33]\n",
    "#list slicing\n",
    "print(marks[:5])"
   ]
  },
  {
   "cell_type": "code",
   "execution_count": 9,
   "metadata": {},
   "outputs": [
    {
     "name": "stdout",
     "output_type": "stream",
     "text": [
      "[7, 5, 3, 8, 5, 24]\n"
     ]
    }
   ],
   "source": [
    "marks = [4,5,7,5,3,8,5,24,57,23,33]\n",
    "# list slicing\n",
    "print(marks[2:8])"
   ]
  },
  {
   "cell_type": "code",
   "execution_count": 10,
   "metadata": {},
   "outputs": [
    {
     "name": "stdout",
     "output_type": "stream",
     "text": [
      "[4, 5, 5, 3, 8, 5, 24, 57, 23, 33]\n"
     ]
    }
   ],
   "source": [
    "marks.remove(7) # first je 7 thakebe ota delete hoia jabe\n",
    "print(marks)"
   ]
  },
  {
   "cell_type": "code",
   "execution_count": 11,
   "metadata": {},
   "outputs": [
    {
     "data": {
      "text/plain": [
       "[4, 5, 3, 8, 5, 24, 57, 23, 33]"
      ]
     },
     "execution_count": 11,
     "metadata": {},
     "output_type": "execute_result"
    }
   ],
   "source": [
    "del marks[2] # index wise delete \n",
    "marks"
   ]
  },
  {
   "cell_type": "code",
   "execution_count": 12,
   "metadata": {},
   "outputs": [
    {
     "name": "stdout",
     "output_type": "stream",
     "text": [
      "[4, 5, 3, 8, 5, 24, 57, 23, 33, 2]\n"
     ]
    }
   ],
   "source": [
    "marks.append(2) # last index e add hobe \n",
    "print(marks)"
   ]
  },
  {
   "cell_type": "markdown",
   "metadata": {},
   "source": [
    "Tuple"
   ]
  },
  {
   "cell_type": "code",
   "execution_count": 13,
   "metadata": {},
   "outputs": [
    {
     "name": "stdout",
     "output_type": "stream",
     "text": [
      "(1, 2, 3, 4)\n"
     ]
    }
   ],
   "source": [
    "# Original tuple\n",
    "my_tuple = (1, 2, 3)\n",
    "\n",
    "# Add an element (e.g., 4)\n",
    "my_tuple = my_tuple + (4,)\n",
    "\n",
    "# Print the updated tuple\n",
    "print(my_tuple)"
   ]
  },
  {
   "cell_type": "code",
   "execution_count": 14,
   "metadata": {},
   "outputs": [
    {
     "name": "stdout",
     "output_type": "stream",
     "text": [
      "[1, 3, 4]\n",
      "3\n"
     ]
    }
   ],
   "source": [
    "# Tule is immutable so converting into list you can remove value \n",
    "# Original tuple\n",
    "my_tuple = (1, 2, 3, 4)\n",
    "\n",
    "# Convert to a list\n",
    "tuple_list = list(my_tuple)\n",
    "\n",
    "# Remove an element (e.g., 2)\n",
    "tuple_list.remove(2)\n",
    "\n",
    "print(tuple_list)\n",
    "\n",
    "print(len(tuple_list)) #check lenth"
   ]
  },
  {
   "cell_type": "markdown",
   "metadata": {},
   "source": [
    "Dictionary "
   ]
  },
  {
   "cell_type": "code",
   "execution_count": 15,
   "metadata": {},
   "outputs": [
    {
     "name": "stdout",
     "output_type": "stream",
     "text": [
      "Biology Teacher\n"
     ]
    }
   ],
   "source": [
    "batch_10_dictionary= {\n",
    "    101 : \"Head Master\",\n",
    "    102 : \"Assistant Teacher\",\n",
    "    103 : \"Assistant Teacher\",\n",
    "    301 : \"Biology Teacher\"\n",
    "}\n",
    "print(batch_10_dictionary[301])"
   ]
  },
  {
   "cell_type": "code",
   "execution_count": 16,
   "metadata": {},
   "outputs": [
    {
     "name": "stdout",
     "output_type": "stream",
     "text": [
      "{101: 'Head Master', 102: 'Assistant Teacher', 103: 'Assistant Teacher', 301: 'Biology Teacher', 201: 'Physics Teacher'}\n"
     ]
    }
   ],
   "source": [
    "# Adding a new entry to the dictionary\n",
    "batch_10_dictionary[201] = \"Physics Teacher\"\n",
    "\n",
    "print(batch_10_dictionary)"
   ]
  },
  {
   "cell_type": "code",
   "execution_count": 17,
   "metadata": {},
   "outputs": [
    {
     "name": "stdout",
     "output_type": "stream",
     "text": [
      "{101: 'Head Master', 103: 'Assistant Teacher', 301: 'Biology Teacher', 201: 'Physics Teacher'}\n"
     ]
    }
   ],
   "source": [
    "# Remove the entry with the key 201\n",
    "del batch_10_dictionary[102]\n",
    "print(batch_10_dictionary)"
   ]
  },
  {
   "cell_type": "markdown",
   "metadata": {},
   "source": [
    "Set"
   ]
  },
  {
   "cell_type": "code",
   "execution_count": 18,
   "metadata": {},
   "outputs": [
    {
     "name": "stdout",
     "output_type": "stream",
     "text": [
      "{40, 10, 20, 30}\n"
     ]
    }
   ],
   "source": [
    "my_set = {10, 20, 30, 40} \n",
    "print(my_set)\n",
    "           \n",
    "    \n"
   ]
  },
  {
   "cell_type": "code",
   "execution_count": 19,
   "metadata": {},
   "outputs": [
    {
     "name": "stdout",
     "output_type": "stream",
     "text": [
      "{40, 10, 50, 20, 30}\n"
     ]
    }
   ],
   "source": [
    " # Add an element\n",
    "my_set.add(50)    \n",
    "print(my_set)"
   ]
  },
  {
   "cell_type": "code",
   "execution_count": 20,
   "metadata": {},
   "outputs": [
    {
     "name": "stdout",
     "output_type": "stream",
     "text": [
      "{40, 50, 20, 30}\n",
      "{40, 50, 20}\n",
      "40\n",
      "{50, 20}\n"
     ]
    }
   ],
   "source": [
    "\n",
    "# Using remove() method\n",
    "my_set.remove(10)  # Removes 10 from the set\n",
    "print(my_set)     \n",
    "\n",
    "# Using discard() method (no error if the element doesn't exist)\n",
    "my_set.discard(30)  # Removes 30 from the set\n",
    "print(my_set)       \n",
    "\n",
    "# Using pop() method (removes an arbitrary element)\n",
    "popped_element = my_set.pop()  # Removes and returns an arbitrary element\n",
    "print(popped_element)  \n",
    "\n",
    "print(my_set)        \n",
    "\n"
   ]
  },
  {
   "cell_type": "markdown",
   "metadata": {},
   "source": [
    "conditional statement"
   ]
  },
  {
   "cell_type": "code",
   "execution_count": 21,
   "metadata": {},
   "outputs": [
    {
     "name": "stdout",
     "output_type": "stream",
     "text": [
      "x is not less than 0\n"
     ]
    }
   ],
   "source": [
    "x = -1\n",
    "if x<0:\n",
    "    print(\"x is not less than 0\")\n",
    "else:\n",
    "    print(\"x is less than 0\")\n"
   ]
  },
  {
   "cell_type": "markdown",
   "metadata": {},
   "source": [
    "Loops"
   ]
  },
  {
   "cell_type": "code",
   "execution_count": 22,
   "metadata": {},
   "outputs": [
    {
     "name": "stdout",
     "output_type": "stream",
     "text": [
      "1\n",
      "2\n",
      "3\n",
      "4\n",
      "5\n"
     ]
    }
   ],
   "source": [
    "# Using a for loop to print numbers from 1 to 5\n",
    "for i in range(1, 6):\n",
    "    print(i)"
   ]
  },
  {
   "cell_type": "code",
   "execution_count": 23,
   "metadata": {},
   "outputs": [
    {
     "name": "stdout",
     "output_type": "stream",
     "text": [
      "2\n",
      "4\n",
      "6\n",
      "8\n",
      "10\n"
     ]
    }
   ],
   "source": [
    "for i in range(2,12, 2):\n",
    "    print(i)"
   ]
  },
  {
   "cell_type": "code",
   "execution_count": 24,
   "metadata": {},
   "outputs": [
    {
     "name": "stdout",
     "output_type": "stream",
     "text": [
      "1\n",
      "3\n",
      "5\n",
      "7\n",
      "9\n",
      "11\n",
      "13\n"
     ]
    }
   ],
   "source": [
    "for num in range(1,15,2):\n",
    "    print(num)"
   ]
  },
  {
   "cell_type": "code",
   "execution_count": 25,
   "metadata": {},
   "outputs": [
    {
     "name": "stdout",
     "output_type": "stream",
     "text": [
      "2\n",
      "4\n",
      "6\n",
      "8\n"
     ]
    }
   ],
   "source": [
    "# Using While Loop \n",
    "x = 2\n",
    "y = 10\n",
    "while x<y:\n",
    "    print(x)\n",
    "    x+=2 #x+2 so x=2, x=2+2=4 that will be sequencially "
   ]
  },
  {
   "cell_type": "code",
   "execution_count": 26,
   "metadata": {},
   "outputs": [
    {
     "name": "stdout",
     "output_type": "stream",
     "text": [
      "1\n",
      "3\n"
     ]
    }
   ],
   "source": [
    "#for lopps in break statement\n",
    "for i in range(1,15,2):\n",
    "    if i == 5: # when i == 5 this code will be stoped\n",
    "        break\n",
    "    print(i)"
   ]
  },
  {
   "cell_type": "markdown",
   "metadata": {},
   "source": [
    "Function"
   ]
  },
  {
   "cell_type": "code",
   "execution_count": 27,
   "metadata": {},
   "outputs": [
    {
     "name": "stdout",
     "output_type": "stream",
     "text": [
      "1\n"
     ]
    }
   ],
   "source": [
    "# Function define by \"def\"\n",
    "x = 1\n",
    "def myfunc():\n",
    "    print(x)\n",
    "    \n",
    "# call the function\n",
    "myfunc()"
   ]
  },
  {
   "cell_type": "code",
   "execution_count": 28,
   "metadata": {},
   "outputs": [],
   "source": [
    "def myfunc1(x, y):\n",
    "    # Sum the arguments\n",
    "    result = x + y\n",
    "    print(result)  # Output the result"
   ]
  },
  {
   "cell_type": "code",
   "execution_count": 29,
   "metadata": {},
   "outputs": [
    {
     "name": "stdout",
     "output_type": "stream",
     "text": [
      "8\n"
     ]
    }
   ],
   "source": [
    "myfunc1(5,3)"
   ]
  },
  {
   "cell_type": "code",
   "execution_count": null,
   "metadata": {},
   "outputs": [],
   "source": []
  }
 ],
 "metadata": {
  "kernelspec": {
   "display_name": "Python 3",
   "language": "python",
   "name": "python3"
  },
  "language_info": {
   "codemirror_mode": {
    "name": "ipython",
    "version": 3
   },
   "file_extension": ".py",
   "mimetype": "text/x-python",
   "name": "python",
   "nbconvert_exporter": "python",
   "pygments_lexer": "ipython3",
   "version": "3.12.6"
  }
 },
 "nbformat": 4,
 "nbformat_minor": 2
}
