{
 "cells": [
  {
   "cell_type": "markdown",
   "id": "6274eac8-a155-48c8-aca7-93240c259fd0",
   "metadata": {},
   "source": [
    "# What is NumPy?\n",
    "#### NumPy is a Python library used for numerical and matrix computations."
   ]
  },
  {
   "cell_type": "markdown",
   "id": "de49fb38-5246-4d35-a887-77641d71bd69",
   "metadata": {},
   "source": [
    "## Main Feature"
   ]
  },
  {
   "cell_type": "markdown",
   "id": "034e801e-b691-4991-ba64-e8c90aa55c9b",
   "metadata": {},
   "source": [
    "**Fast Array Processing** - \n",
    "NumPy arrays are more efficient than Python lists for large dat-learn."
   ]
  },
  {
   "cell_type": "markdown",
   "id": "bda6e0a3-cdc5-43d3-97ec-55b62aa7abc8",
   "metadata": {},
   "source": [
    "**Vectorized Operations** - Perform element-wise operations without writing loops"
   ]
  },
  {
   "cell_type": "markdown",
   "id": "b801243c-d0ee-4724-b080-111194b46cf4",
   "metadata": {},
   "source": [
    "**Multidimensional Arrays** - Support for arrays of any dimension"
   ]
  },
  {
   "cell_type": "markdown",
   "id": "d78b8dab-1bf9-45d0-845d-479997cec7ee",
   "metadata": {},
   "source": [
    "**Integration** - Works with other libraries like Pandas, Matplotlib, and Scikit-learn."
   ]
  },
  {
   "cell_type": "markdown",
   "id": "ce7a0bd5-630c-4b20-b924-ce412958d418",
   "metadata": {},
   "source": [
    "**Starting now**"
   ]
  },
  {
   "cell_type": "markdown",
   "id": "4f613456-6e75-4900-a2f0-c3a41ba5ca85",
   "metadata": {},
   "source": [
    "np.array()\n",
    "\n",
    "Purpose: Converts input data (lists, tuples) into a NumPy array."
   ]
  },
  {
   "cell_type": "code",
   "execution_count": 1,
   "id": "4955449b-24fe-43c0-a6d9-9f5524e17147",
   "metadata": {},
   "outputs": [
    {
     "data": {
      "text/plain": [
       "array([16, 22, 39, 86])"
      ]
     },
     "execution_count": 1,
     "metadata": {},
     "output_type": "execute_result"
    }
   ],
   "source": [
    "import numpy as np \n",
    "ages = [16, 22, 39, 86]\n",
    "array = np.array(ages)\n",
    "array"
   ]
  },
  {
   "cell_type": "markdown",
   "id": "be664e88-1ff0-478c-b69d-67d0793731bd",
   "metadata": {},
   "source": [
    "np.zeros()\n",
    "\n",
    "Purpose: Creates an array filled with zeros.\n",
    "\n",
    "Parameters: `shape`: A tuple defining the shape of the array."
   ]
  },
  {
   "cell_type": "code",
   "execution_count": 2,
   "id": "b0b2ad12-0a1d-46cf-9009-fbc91aa5cc50",
   "metadata": {},
   "outputs": [
    {
     "data": {
      "text/plain": [
       "array([[0., 0., 0., 0.],\n",
       "       [0., 0., 0., 0.],\n",
       "       [0., 0., 0., 0.]])"
      ]
     },
     "execution_count": 2,
     "metadata": {},
     "output_type": "execute_result"
    }
   ],
   "source": [
    "zeros_array = np.zeros((3,4))\n",
    "zeros_array"
   ]
  },
  {
   "cell_type": "markdown",
   "id": "51d897a5-2937-4f8a-95f8-6cd4e46635b4",
   "metadata": {},
   "source": [
    "np.ones()\n",
    "\n",
    "Purpose: Creates an array filled with ones.\n",
    "\n",
    "Parameters: `shape`: A tuple defining the shape of the array."
   ]
  },
  {
   "cell_type": "code",
   "execution_count": 3,
   "id": "3141c5a7-ccbd-46d9-8188-31c34fd21bd3",
   "metadata": {},
   "outputs": [
    {
     "data": {
      "text/plain": [
       "array([[1., 1., 1., 1.],\n",
       "       [1., 1., 1., 1.],\n",
       "       [1., 1., 1., 1.]])"
      ]
     },
     "execution_count": 3,
     "metadata": {},
     "output_type": "execute_result"
    }
   ],
   "source": [
    "ones_array = np.ones((3,4))\n",
    "ones_array"
   ]
  },
  {
   "cell_type": "markdown",
   "id": "4c187573-fd8f-4e91-9206-7eeed57396c4",
   "metadata": {},
   "source": [
    "np.arange()\n",
    "\n",
    "Purpose\n",
    "Generates an array with values from start to stop (exclusive) with a stis 1)."
   ]
  },
  {
   "cell_type": "markdown",
   "id": "6d1cbe9e-b97a-494f-a6a0-a28aa9bda255",
   "metadata": {},
   "source": [
    "Parameters:\n",
    "\n",
    "-`start`: Starting value\n",
    "\n",
    "-`stop`: Stopping value (excluded)\n",
    "\n",
    "-`step`: Step size (default is 1)"
   ]
  },
  {
   "cell_type": "code",
   "execution_count": 4,
   "id": "3f51dd20-14df-49e7-a17c-7e9ef3d1a31c",
   "metadata": {},
   "outputs": [
    {
     "data": {
      "text/plain": [
       "array([ 5, 10, 15, 20])"
      ]
     },
     "execution_count": 4,
     "metadata": {},
     "output_type": "execute_result"
    }
   ],
   "source": [
    "arange_array = np.arange(5, 25, 5)\n",
    "arange_array"
   ]
  },
  {
   "cell_type": "markdown",
   "id": "bb3a8fd1-7400-43c2-be9c-4d9d68727bab",
   "metadata": {},
   "source": [
    "np.linspace()\n",
    "\n",
    "Purpose:\n",
    "Creates an array of evenly spaced values between start and stop."
   ]
  },
  {
   "cell_type": "markdown",
   "id": "24eb2a9b-d628-4183-a55f-1e9c036d14f6",
   "metadata": {},
   "source": [
    "Parameters:\n",
    "\n",
    "`start`: Starting value.\n",
    "`stop`: Stopping value (included).\n",
    "`num`: Number of values to generate."
   ]
  },
  {
   "cell_type": "code",
   "execution_count": 5,
   "id": "c91de404-9ef0-41d7-b686-6d4e0eaaf84e",
   "metadata": {},
   "outputs": [
    {
     "data": {
      "text/plain": [
       "array([ 5.        ,  7.22222222,  9.44444444, 11.66666667, 13.88888889,\n",
       "       16.11111111, 18.33333333, 20.55555556, 22.77777778, 25.        ])"
      ]
     },
     "execution_count": 5,
     "metadata": {},
     "output_type": "execute_result"
    }
   ],
   "source": [
    "linspace_array = np.linspace(5, 25, 10)\n",
    "linspace_array"
   ]
  },
  {
   "cell_type": "markdown",
   "id": "63ef5b49-7c01-489a-aede-dbaf007607a2",
   "metadata": {},
   "source": [
    "# Array Attributes"
   ]
  },
  {
   "cell_type": "markdown",
   "id": "ac42a003-2897-46bd-bda0-4943d45886cd",
   "metadata": {},
   "source": [
    "**shape**\n",
    "\n",
    "Purpose: Returns the dimensions (size along each axis) of the array."
   ]
  },
  {
   "attachments": {
    "c180e31d-5eea-4fe9-80dc-339d9d523f07.webp": {
     "image/webp": "[encoded data removed]"
    }
   },
   "cell_type": "markdown",
   "id": "4d1c2c0d-c6e4-48b9-abb8-2d2d4a3fbef2",
   "metadata": {},
   "source": [
    "![NumPy-array.webp](attachment:c180e31d-5eea-4fe9-80dc-339d9d523f07.webp)"
   ]
  },
  {
   "cell_type": "code",
   "execution_count": 6,
   "id": "80233e79-5a27-4eaf-a3c6-38409d101971",
   "metadata": {},
   "outputs": [
    {
     "name": "stdout",
     "output_type": "stream",
     "text": [
      "[1 2 3]\n"
     ]
    }
   ],
   "source": [
    "arr_1D = np.array([1,2,3]) # create  NumPy 1D array which contain int value 1,2,3\n",
    "print(arr_1D) # print arr_1D"
   ]
  },
  {
   "cell_type": "code",
   "execution_count": 7,
   "id": "84a57ffc-9d22-499a-a7cd-63f381fc43c2",
   "metadata": {},
   "outputs": [
    {
     "data": {
      "text/plain": [
       "(3,)"
      ]
     },
     "execution_count": 7,
     "metadata": {},
     "output_type": "execute_result"
    }
   ],
   "source": [
    "arr_1D.shape"
   ]
  },
  {
   "cell_type": "code",
   "execution_count": 8,
   "id": "87efcef7-dffc-4fc2-ba73-80d2bf971b62",
   "metadata": {
    "scrolled": true
   },
   "outputs": [
    {
     "name": "stdout",
     "output_type": "stream",
     "text": [
      "[[1 2 3]\n",
      " [1 2 3]\n",
      " [1 2 3]]\n"
     ]
    }
   ],
   "source": [
    "arr_2D = np.array([[1, 2, 3], [1, 2, 3], [1, 2, 3]]) # Create Numpy 2D array which contain inter type valye\n",
    "print(arr_2D) # print arr_1D"
   ]
  },
  {
   "cell_type": "code",
   "execution_count": 9,
   "id": "fc02ce2d-2447-4c3a-9f38-cdfc5cfdcee5",
   "metadata": {},
   "outputs": [
    {
     "data": {
      "text/plain": [
       "(3, 3)"
      ]
     },
     "execution_count": 9,
     "metadata": {},
     "output_type": "execute_result"
    }
   ],
   "source": [
    "arr_2D.shape"
   ]
  },
  {
   "cell_type": "code",
   "execution_count": 12,
   "id": "561aa6a3-5990-4905-a400-671db048aa3a",
   "metadata": {},
   "outputs": [
    {
     "data": {
      "text/plain": [
       "array([[[1, 2, 3],\n",
       "        [1, 2, 3],\n",
       "        [1, 2, 3]],\n",
       "\n",
       "       [[1, 2, 3],\n",
       "        [1, 2, 3],\n",
       "        [1, 2, 3]],\n",
       "\n",
       "       [[1, 2, 3],\n",
       "        [1, 2, 3],\n",
       "        [1, 2, 3]]])"
      ]
     },
     "execution_count": 12,
     "metadata": {},
     "output_type": "execute_result"
    }
   ],
   "source": [
    "arr_3D = np.array([[[1, 2, 3], [1, 2, 3], [1, 2, 3]],\n",
    "                   [[1, 2, 3], [1, 2, 3], [1, 2, 3]],\n",
    "                   [[1, 2, 3], [1, 2, 3], [1, 2, 3]]])\n",
    "arr_3D"
   ]
  },
  {
   "cell_type": "code",
   "execution_count": 13,
   "id": "7c9aa23f-acf9-4170-a917-3a0cf2876d44",
   "metadata": {
    "scrolled": true
   },
   "outputs": [
    {
     "data": {
      "text/plain": [
       "(3, 3, 3)"
      ]
     },
     "execution_count": 13,
     "metadata": {},
     "output_type": "execute_result"
    }
   ],
   "source": [
    "arr_3D.shape"
   ]
  },
  {
   "cell_type": "markdown",
   "id": "97584782-a2dd-4e52-98c8-fda6b9ed75e5",
   "metadata": {},
   "source": [
    "**dtype**\n",
    "\n",
    "Purpose:\n",
    "Returns the data type of the array elements."
   ]
  },
  {
   "cell_type": "code",
   "execution_count": 14,
   "id": "9699daa3-0fa5-4a26-9443-38c4d0624439",
   "metadata": {},
   "outputs": [
    {
     "data": {
      "text/plain": [
       "dtype('int32')"
      ]
     },
     "execution_count": 14,
     "metadata": {},
     "output_type": "execute_result"
    }
   ],
   "source": [
    "array11 = np.array([[9, 8, 7], [-1, 2, 0]])\n",
    "array11.dtype"
   ]
  },
  {
   "cell_type": "code",
   "execution_count": 15,
   "id": "d42511f7-4d78-4436-aa93-c7937e4c2846",
   "metadata": {},
   "outputs": [
    {
     "data": {
      "text/plain": [
       "dtype('float64')"
      ]
     },
     "execution_count": 15,
     "metadata": {},
     "output_type": "execute_result"
    }
   ],
   "source": [
    "array12 = np.linspace(-8, 8, 16)\n",
    "array12.dtype"
   ]
  },
  {
   "cell_type": "markdown",
   "id": "5dfe0977-bbc5-4290-a1a5-99390eed0b41",
   "metadata": {},
   "source": [
    "**size**\n",
    "  \n",
    "Purpose:\n",
    "Returns the total number of elements in the array."
   ]
  },
  {
   "cell_type": "code",
   "execution_count": 16,
   "id": "f464343d-ad4a-4822-8551-dc86b37801cf",
   "metadata": {},
   "outputs": [
    {
     "data": {
      "text/plain": [
       "6"
      ]
     },
     "execution_count": 16,
     "metadata": {},
     "output_type": "execute_result"
    }
   ],
   "source": [
    "array13 = np.array([[9, 8, 7], [-1, 2, 0]])\n",
    "array13.size"
   ]
  },
  {
   "cell_type": "code",
   "execution_count": 17,
   "id": "3e807cd0-a11c-424c-a754-b9112a649da1",
   "metadata": {},
   "outputs": [
    {
     "data": {
      "text/plain": [
       "3"
      ]
     },
     "execution_count": 17,
     "metadata": {},
     "output_type": "execute_result"
    }
   ],
   "source": [
    "array14 = np.arange(1,9,3)\n",
    "array14.size"
   ]
  },
  {
   "cell_type": "code",
   "execution_count": 20,
   "id": "8a2c3e14",
   "metadata": {},
   "outputs": [
    {
     "data": {
      "text/plain": [
       "5"
      ]
     },
     "execution_count": 20,
     "metadata": {},
     "output_type": "execute_result"
    }
   ],
   "source": [
    "array14 = np.arange(1,15,3)\n",
    "array14.size"
   ]
  },
  {
   "cell_type": "markdown",
   "id": "25119ae2-96fa-4987-b353-b3528fdc9c63",
   "metadata": {},
   "source": [
    "**ndim**\n",
    "\n",
    "Purpose:\n",
    "Returns the number of dimensions (axes) of the array."
   ]
  },
  {
   "cell_type": "code",
   "execution_count": 21,
   "id": "759654bd-8807-409c-a58e-c978f43bfab1",
   "metadata": {},
   "outputs": [
    {
     "data": {
      "text/plain": [
       "1"
      ]
     },
     "execution_count": 21,
     "metadata": {},
     "output_type": "execute_result"
    }
   ],
   "source": [
    "arr_1D.ndim"
   ]
  },
  {
   "cell_type": "code",
   "execution_count": 22,
   "id": "bc6f53b8-ee9d-4c0b-b20d-72e85903e84e",
   "metadata": {},
   "outputs": [
    {
     "data": {
      "text/plain": [
       "2"
      ]
     },
     "execution_count": 22,
     "metadata": {},
     "output_type": "execute_result"
    }
   ],
   "source": [
    "arr_2D.ndim"
   ]
  },
  {
   "cell_type": "code",
   "execution_count": 23,
   "id": "ef459182-df7b-4035-b7de-680aa69c8502",
   "metadata": {},
   "outputs": [
    {
     "data": {
      "text/plain": [
       "3"
      ]
     },
     "execution_count": 23,
     "metadata": {},
     "output_type": "execute_result"
    }
   ],
   "source": [
    "arr_3D.ndim"
   ]
  },
  {
   "cell_type": "markdown",
   "id": "5c7756a7-989a-414c-b1a0-4877ca5643cb",
   "metadata": {},
   "source": [
    "# Basic Operations\n",
    "## Element-wise"
   ]
  },
  {
   "cell_type": "code",
   "execution_count": 24,
   "id": "2ff63ece-1c16-443b-b4e5-db9b07ef138d",
   "metadata": {},
   "outputs": [
    {
     "data": {
      "text/plain": [
       "array([5, 7, 9])"
      ]
     },
     "execution_count": 24,
     "metadata": {},
     "output_type": "execute_result"
    }
   ],
   "source": [
    "a = np.array([1, 2, 3])\n",
    "b = np.array([4, 5, 6])\n",
    "c = a + b  # Addition (+)\n",
    "c"
   ]
  },
  {
   "cell_type": "code",
   "execution_count": 25,
   "id": "377634ab-e443-448a-9c6b-adbbf5e21052",
   "metadata": {},
   "outputs": [
    {
     "data": {
      "text/plain": [
       "array([[ 2.,  0.,  2.],\n",
       "       [ 1., -1.,  0.]])"
      ]
     },
     "execution_count": 25,
     "metadata": {},
     "output_type": "execute_result"
    }
   ],
   "source": [
    "d = np.ones((2,3))\n",
    "e = np.array([[1,-1,1], [0,-2,-1]])\n",
    "f = d + e # Addition (+)\n",
    "f"
   ]
  },
  {
   "cell_type": "code",
   "execution_count": 26,
   "id": "bd436d71-7fa0-4f44-adf8-8aba8a15f0d3",
   "metadata": {},
   "outputs": [
    {
     "data": {
      "text/plain": [
       "array([-3, -3, -3])"
      ]
     },
     "execution_count": 26,
     "metadata": {},
     "output_type": "execute_result"
    }
   ],
   "source": [
    "a = np.array([1, 2, 3])\n",
    "b = np.array([4, 5, 6])\n",
    "c = a - b # Subtraction (-)\n",
    "c"
   ]
  },
  {
   "cell_type": "code",
   "execution_count": 27,
   "id": "043b4d3a-3b28-4b77-873f-6564cb90ed15",
   "metadata": {},
   "outputs": [
    {
     "data": {
      "text/plain": [
       "array([[0., 2., 0.],\n",
       "       [1., 3., 2.]])"
      ]
     },
     "execution_count": 27,
     "metadata": {},
     "output_type": "execute_result"
    }
   ],
   "source": [
    "d = np.ones((2,3))\n",
    "e = np.array([[1,-1,1], [0,-2,-1]])\n",
    "f = d - e # Subtraction (-)\n",
    "f"
   ]
  },
  {
   "cell_type": "code",
   "execution_count": 28,
   "id": "5e80e52d-0ba1-42b1-8a8b-931c79ac36a3",
   "metadata": {},
   "outputs": [
    {
     "data": {
      "text/plain": [
       "array([ 4, 10, 18])"
      ]
     },
     "execution_count": 28,
     "metadata": {},
     "output_type": "execute_result"
    }
   ],
   "source": [
    "a = np.array([1, 2, 3])\n",
    "b = np.array([4, 5, 6])\n",
    "c = a * b  # Multiplication (*)\n",
    "c"
   ]
  },
  {
   "cell_type": "code",
   "execution_count": 29,
   "id": "8fb6485b-8f4c-4570-9f37-fb89937bd4c4",
   "metadata": {},
   "outputs": [
    {
     "data": {
      "text/plain": [
       "array([[ 1., -1.,  1.],\n",
       "       [ 0., -2., -1.]])"
      ]
     },
     "execution_count": 29,
     "metadata": {},
     "output_type": "execute_result"
    }
   ],
   "source": [
    "d = np.ones((2,3))\n",
    "e = np.array([[1,-1,1], [0,-2,-1]])\n",
    "f = d * e # Multiplication (*)\n",
    "f"
   ]
  },
  {
   "cell_type": "code",
   "execution_count": 30,
   "id": "b873c566-2cd0-43d7-9490-df5188548fbc",
   "metadata": {},
   "outputs": [
    {
     "data": {
      "text/plain": [
       "array([0.25, 0.4 , 0.5 ])"
      ]
     },
     "execution_count": 30,
     "metadata": {},
     "output_type": "execute_result"
    }
   ],
   "source": [
    "a = np.array([1, 2, 3])\n",
    "b = np.array([4, 5, 6])\n",
    "c = a / b  # Division (/)\n",
    "c"
   ]
  },
  {
   "cell_type": "code",
   "execution_count": 31,
   "id": "8cfeff14-09bb-4b0c-9fad-2a594e1dc514",
   "metadata": {},
   "outputs": [
    {
     "name": "stderr",
     "output_type": "stream",
     "text": [
      "C:\\Users\\Administrator\\AppData\\Local\\Temp\\ipykernel_10364\\40449915.py:3: RuntimeWarning: divide by zero encountered in divide\n",
      "  f = d / e # Division (/)\n"
     ]
    },
    {
     "data": {
      "text/plain": [
       "array([[ 1. , -1. ,  1. ],\n",
       "       [ inf, -0.5, -1. ]])"
      ]
     },
     "execution_count": 31,
     "metadata": {},
     "output_type": "execute_result"
    }
   ],
   "source": [
    "d = np.ones((2,3))\n",
    "e = np.array([[1,-1,1], [0,-2,-1]])\n",
    "f = d / e # Division (/)\n",
    "f"
   ]
  },
  {
   "cell_type": "code",
   "execution_count": 32,
   "id": "ded6f343-4548-4544-8c33-34599de4594e",
   "metadata": {},
   "outputs": [
    {
     "data": {
      "text/plain": [
       "array([  1,  32, 729])"
      ]
     },
     "execution_count": 32,
     "metadata": {},
     "output_type": "execute_result"
    }
   ],
   "source": [
    "a = np.array([1, 2, 3])\n",
    "b = np.array([4, 5, 6])\n",
    "c = a ** b  # Exponentiation (**)\n",
    "c"
   ]
  },
  {
   "cell_type": "code",
   "execution_count": 33,
   "id": "3b73bc41-b5dc-4587-a1a2-3a931a2dac15",
   "metadata": {},
   "outputs": [
    {
     "data": {
      "text/plain": [
       "array([[1., 1., 1.],\n",
       "       [1., 1., 1.]])"
      ]
     },
     "execution_count": 33,
     "metadata": {},
     "output_type": "execute_result"
    }
   ],
   "source": [
    "d = np.ones((2,3))\n",
    "e = np.array([[1,-1,1], [0,-2,-1]])\n",
    "f = d ** e # Exponentiation (**)\n",
    "f"
   ]
  },
  {
   "cell_type": "markdown",
   "id": "73652ecd-a830-483b-835c-dabe34ece96b",
   "metadata": {},
   "source": [
    "# Basic Operations\n",
    "## Unary"
   ]
  },
  {
   "cell_type": "markdown",
   "id": "4d576047-451b-42c5-8f5a-6f1be7e7b34d",
   "metadata": {},
   "source": [
    "Sum: np.sum()"
   ]
  },
  {
   "cell_type": "code",
   "execution_count": 34,
   "id": "0ee33d64-0d7c-4cf4-846a-702cbcdf0e54",
   "metadata": {},
   "outputs": [
    {
     "data": {
      "text/plain": [
       "6"
      ]
     },
     "execution_count": 34,
     "metadata": {},
     "output_type": "execute_result"
    }
   ],
   "source": [
    "np.sum(a)"
   ]
  },
  {
   "cell_type": "code",
   "execution_count": 35,
   "id": "3bc3c96f-02ec-410c-a2ab-9dfc84a275a0",
   "metadata": {},
   "outputs": [
    {
     "data": {
      "text/plain": [
       "6.0"
      ]
     },
     "execution_count": 35,
     "metadata": {},
     "output_type": "execute_result"
    }
   ],
   "source": [
    "np.sum(d)"
   ]
  },
  {
   "cell_type": "code",
   "execution_count": 36,
   "id": "593f0098-b135-4b91-b9cc-78265fa826aa",
   "metadata": {},
   "outputs": [
    {
     "data": {
      "text/plain": [
       "10"
      ]
     },
     "execution_count": 36,
     "metadata": {},
     "output_type": "execute_result"
    }
   ],
   "source": [
    "v = np.array([-2, 3, 9])\n",
    "np.sum(v)"
   ]
  },
  {
   "cell_type": "code",
   "execution_count": 37,
   "id": "b91b06e5-235e-4ca6-b77b-1d22bcbc9a63",
   "metadata": {},
   "outputs": [
    {
     "data": {
      "text/plain": [
       "13.0"
      ]
     },
     "execution_count": 37,
     "metadata": {},
     "output_type": "execute_result"
    }
   ],
   "source": [
    "x = np.array([[-2, 3, 9], np.ones(3)])\n",
    "np.sum(x)"
   ]
  },
  {
   "cell_type": "markdown",
   "id": "ebbbb415-f022-40fe-8ee1-e32179ac0dae",
   "metadata": {},
   "source": [
    "Minimum: np.min()"
   ]
  },
  {
   "cell_type": "code",
   "execution_count": 38,
   "id": "40d380a9-cd4f-4e09-a8d6-9bfe8c51e372",
   "metadata": {},
   "outputs": [
    {
     "data": {
      "text/plain": [
       "-2"
      ]
     },
     "execution_count": 38,
     "metadata": {},
     "output_type": "execute_result"
    }
   ],
   "source": [
    "v = np.array([-2, 3, 9])\n",
    "np.min(v)"
   ]
  },
  {
   "cell_type": "code",
   "execution_count": 39,
   "id": "1b064694-a1ac-4378-b5af-bf0573a864c2",
   "metadata": {},
   "outputs": [
    {
     "data": {
      "text/plain": [
       "-2.0"
      ]
     },
     "execution_count": 39,
     "metadata": {},
     "output_type": "execute_result"
    }
   ],
   "source": [
    "x = np.array([[-2, 3, 9], np.ones(3)])\n",
    "np.min(x)"
   ]
  },
  {
   "cell_type": "code",
   "execution_count": 40,
   "id": "26a1ea46-0390-4c08-82d6-8b8e8ba7d56d",
   "metadata": {},
   "outputs": [
    {
     "data": {
      "text/plain": [
       "9"
      ]
     },
     "execution_count": 40,
     "metadata": {},
     "output_type": "execute_result"
    }
   ],
   "source": [
    "v = np.array([-2, 3, 9])\n",
    "np.max(v)"
   ]
  },
  {
   "cell_type": "code",
   "execution_count": 41,
   "id": "bfbb8aab-5efd-4a9b-9332-27def5c3e936",
   "metadata": {
    "scrolled": true
   },
   "outputs": [
    {
     "data": {
      "text/plain": [
       "9.0"
      ]
     },
     "execution_count": 41,
     "metadata": {},
     "output_type": "execute_result"
    }
   ],
   "source": [
    "x = np.array([[-2, 3, 9], np.ones(3)])\n",
    "np.max(x)"
   ]
  },
  {
   "cell_type": "markdown",
   "id": "7ecbcd8f-688c-4289-9d64-381ead69ff7e",
   "metadata": {},
   "source": [
    "Mean: np.mean()"
   ]
  },
  {
   "cell_type": "code",
   "execution_count": 42,
   "id": "b594dcd2-2e60-430a-a24b-b0005ea44d63",
   "metadata": {},
   "outputs": [
    {
     "data": {
      "text/plain": [
       "3.3333333333333335"
      ]
     },
     "execution_count": 42,
     "metadata": {},
     "output_type": "execute_result"
    }
   ],
   "source": [
    "v = np.array([-2, 3, 9])\n",
    "np.mean(v)"
   ]
  },
  {
   "cell_type": "code",
   "execution_count": 43,
   "id": "9a0be4c6-d613-4a0a-8f93-17df90be74f4",
   "metadata": {},
   "outputs": [
    {
     "data": {
      "text/plain": [
       "2.1666666666666665"
      ]
     },
     "execution_count": 43,
     "metadata": {},
     "output_type": "execute_result"
    }
   ],
   "source": [
    "x = np.array([[-2, 3, 9], np.ones(3)])\n",
    "np.mean(x)"
   ]
  },
  {
   "cell_type": "markdown",
   "id": "060a3552-14e1-4512-8011-c18b7e21383e",
   "metadata": {},
   "source": [
    "Standard Deviation: np.std()"
   ]
  },
  {
   "cell_type": "code",
   "execution_count": 44,
   "id": "e931dc6e-754f-4c69-9826-7b6b6fea955b",
   "metadata": {},
   "outputs": [
    {
     "data": {
      "text/plain": [
       "4.4969125210773475"
      ]
     },
     "execution_count": 44,
     "metadata": {},
     "output_type": "execute_result"
    }
   ],
   "source": [
    "v = np.array([-2, 3, 9])\n",
    "np.std(v)"
   ]
  },
  {
   "cell_type": "code",
   "execution_count": 45,
   "id": "f2d41662-7269-4e73-beab-c5e2b5e38715",
   "metadata": {},
   "outputs": [
    {
     "data": {
      "text/plain": [
       "3.387066905483596"
      ]
     },
     "execution_count": 45,
     "metadata": {},
     "output_type": "execute_result"
    }
   ],
   "source": [
    "x = np.array([[-2, 3, 9], np.ones(3)])\n",
    "np.std(x)"
   ]
  },
  {
   "cell_type": "markdown",
   "id": "362930cc-87d7-469e-859c-e2efa3808ee3",
   "metadata": {},
   "source": [
    "# Advanced Manipulations\n",
    "## Reshaping Arrays: reshape()\n",
    "\n",
    "Purpose:\n",
    "Change the shape of an array without changing its data."
   ]
  },
  {
   "cell_type": "code",
   "execution_count": 46,
   "id": "db1ba2f4-c02f-4101-93ab-24e10be025a2",
   "metadata": {},
   "outputs": [
    {
     "data": {
      "text/plain": [
       "array([[-2],\n",
       "       [ 3],\n",
       "       [ 9]])"
      ]
     },
     "execution_count": 46,
     "metadata": {},
     "output_type": "execute_result"
    }
   ],
   "source": [
    "reshaped = v.reshape((3,1))\n",
    "reshaped"
   ]
  },
  {
   "cell_type": "markdown",
   "id": "1afde207-1f41-43dc-b6d9-cbca97fc3e08",
   "metadata": {},
   "source": [
    "Transposing Arrays: T\n",
    "\n",
    "Purpose:\n",
    "Flip the dimensions of an array."
   ]
  },
  {
   "cell_type": "code",
   "execution_count": null,
   "id": "5398172e-67ca-43e7-a267-47f5837a4fa0",
   "metadata": {},
   "outputs": [],
   "source": [
    "x"
   ]
  },
  {
   "cell_type": "code",
   "execution_count": 47,
   "id": "a993be7c-1b93-43c2-980e-3c6ceb9770f9",
   "metadata": {},
   "outputs": [
    {
     "data": {
      "text/plain": [
       "array([[-2.,  1.],\n",
       "       [ 3.,  1.],\n",
       "       [ 9.,  1.]])"
      ]
     },
     "execution_count": 47,
     "metadata": {},
     "output_type": "execute_result"
    }
   ],
   "source": [
    "transposed = x.T\n",
    "transposed "
   ]
  },
  {
   "cell_type": "markdown",
   "id": "bc415c3c-62e3-46a5-aa98-e0fdb8cadc22",
   "metadata": {},
   "source": [
    "Concatenation: np.concatenate()\n",
    "\n",
    "Purpose:\n",
    "Combine multiple arrays into one."
   ]
  },
  {
   "cell_type": "code",
   "execution_count": 48,
   "id": "d12f9da5-84b0-49b6-99a7-60161b812a43",
   "metadata": {},
   "outputs": [
    {
     "data": {
      "text/plain": [
       "array([1. , 5. , 9. , 5. , 5.8, 6.6, 7.4, 8.2, 9. ])"
      ]
     },
     "execution_count": 48,
     "metadata": {},
     "output_type": "execute_result"
    }
   ],
   "source": [
    "A = np.arange(1,12,4)\n",
    "B = np.linspace(5,9,6)\n",
    "combined = np.concatenate((A,B))\n",
    "combined"
   ]
  },
  {
   "cell_type": "markdown",
   "id": "39f4bb3e-a9b5-4433-906d-e4d15a7190f7",
   "metadata": {},
   "source": [
    "Splitting: np.split()\n",
    "\n",
    "Purpose:\n",
    "Split an array into multiple sub-arrays."
   ]
  },
  {
   "cell_type": "code",
   "execution_count": 49,
   "id": "cb8b1804-e36e-4a87-8261-522a31ce0c17",
   "metadata": {},
   "outputs": [
    {
     "data": {
      "text/plain": [
       "[array([0., 1., 2., 3.]), array([4., 5., 6., 7.])]"
      ]
     },
     "execution_count": 49,
     "metadata": {},
     "output_type": "execute_result"
    }
   ],
   "source": [
    "array14 = np.arange(8.0)\n",
    "splitted = np.split(array14, 2)\n",
    "splitted"
   ]
  },
  {
   "cell_type": "code",
   "execution_count": null,
   "id": "0303e490-4fc0-49fa-88d5-9a5090c0e164",
   "metadata": {},
   "outputs": [],
   "source": []
  },
  {
   "cell_type": "code",
   "execution_count": null,
   "id": "91ebb567-a3b5-486b-bbfc-6cd83de15fab",
   "metadata": {},
   "outputs": [],
   "source": []
  }
 ],
 "metadata": {
  "kernelspec": {
   "display_name": "Python 3 (ipykernel)",
   "language": "python",
   "name": "python3"
  },
  "language_info": {
   "codemirror_mode": {
    "name": "ipython",
    "version": 3
   },
   "file_extension": ".py",
   "mimetype": "text/x-python",
   "name": "python",
   "nbconvert_exporter": "python",
   "pygments_lexer": "ipython3",
   "version": "3.11.5"
  }
 },
 "nbformat": 4,
 "nbformat_minor": 5
}
